{
  "cells": [
    {
      "cell_type": "markdown",
      "metadata": {
        "id": "view-in-github",
        "colab_type": "text"
      },
      "source": [
        "<a href=\"https://colab.research.google.com/github/PoiSoN09/PoiSoN09/blob/main/09_Guessing_Game_Challenge.ipynb\" target=\"_parent\"><img src=\"https://colab.research.google.com/assets/colab-badge.svg\" alt=\"Open In Colab\"/></a>"
      ]
    },
    {
      "cell_type": "markdown",
      "metadata": {
        "id": "gNplpBWDhvGX"
      },
      "source": [
        "# Guessing Game Challenge\n",
        "\n",
        "Let's use `while` loops to create a guessing game.\n",
        "\n",
        "The Challenge:\n",
        "\n",
        "Write a program that picks a random integer from 1 to 100, and has players guess the number. The rules are:\n",
        "\n",
        "1. If a player's guess is less than 1 or greater than 100, say \"OUT OF BOUNDS\"\n",
        "2. On a player's first turn, if their guess is\n",
        " * within 10 of the number, return \"WARM!\"\n",
        " * further than 10 away from the number, return \"COLD!\"\n",
        "3. On all subsequent turns, if a guess is \n",
        " * closer to the number than the previous guess return \"WARMER!\"\n",
        " * farther from the number than the previous guess, return \"COLDER!\"\n",
        "4. When the player's guess equals the number, tell them they've guessed correctly *and* how many guesses it took!\n",
        "\n",
        "You can try this from scratch, or follow the steps outlined below. A separate Solution notebook has been provided. Good luck!\n"
      ]
    },
    {
      "cell_type": "markdown",
      "metadata": {
        "id": "PCcVRTfNhvGc"
      },
      "source": [
        "#### First, pick a random integer from 1 to 100 using the random module and assign it to a variable\n",
        "\n",
        "Note: `random.randint(a,b)` returns a random integer in range `[a, b]`, including both end points."
      ]
    },
    {
      "cell_type": "code",
      "execution_count": 6,
      "metadata": {
        "collapsed": true,
        "id": "B97mZoGhhvGd"
      },
      "outputs": [],
      "source": [
        "import random "
      ]
    },
    {
      "cell_type": "code",
      "source": [
        "random_number = random.randint(1,100)\n"
      ],
      "metadata": {
        "id": "3ccm2ITRi-co"
      },
      "execution_count": 54,
      "outputs": []
    },
    {
      "cell_type": "markdown",
      "metadata": {
        "id": "VscuFhZ-hvGd"
      },
      "source": [
        "#### Next, print an introduction to the game and explain the rules"
      ]
    },
    {
      "cell_type": "code",
      "execution_count": null,
      "metadata": {
        "collapsed": true,
        "id": "skj63PZUhvGe"
      },
      "outputs": [],
      "source": [
        "print(\"Let's play GuessGame\")\n",
        "print(\"I will print a number between 1 to 100\")\n",
        "print(\"If your guess is closer by 10, I will hint you\\n'WARM WARM!'\")\n",
        "print(\"If your guess is not closer by 10, I will hint you\\n'COLD COLD!'\")\n",
        "print(\"If your guess is closer than your previous guess, I'll hint you\\n'WARMER WARMER!'\")\n",
        "print(\"If your guess is farther than your previous guess, I'll hint you\\n'COLDER COLDER!'\")\n",
        "print(\"BEGIN!\")"
      ]
    },
    {
      "cell_type": "markdown",
      "metadata": {
        "id": "vhNQ0NG3hvGe"
      },
      "source": [
        "#### Create a list to store guesses\n",
        "\n",
        "Hint: zero is a good placeholder value. It's useful because it evaluates to \"False\""
      ]
    },
    {
      "cell_type": "code",
      "execution_count": 55,
      "metadata": {
        "collapsed": true,
        "id": "zPfFB4RhhvGe"
      },
      "outputs": [],
      "source": [
        "guesses = [0]"
      ]
    },
    {
      "cell_type": "markdown",
      "metadata": {
        "id": "wYcdpBVnhvGe"
      },
      "source": [
        "#### Write a `while` loop that asks for a valid guess. Test it a few times to make sure it works."
      ]
    },
    {
      "cell_type": "code",
      "execution_count": 52,
      "metadata": {
        "collapsed": true,
        "colab": {
          "base_uri": "https://localhost:8080/"
        },
        "id": "xifXokVWhvGf",
        "outputId": "f6f5c7d7-d7a6-410c-efc1-95c4f842b0a6"
      },
      "outputs": [
        {
          "name": "stdout",
          "output_type": "stream",
          "text": [
            "Guess the number between 0 to 100, BEST OF LUCK: 10\n"
          ]
        }
      ],
      "source": [
        "while True:\n",
        "  guess = int(input('Guess the number between 0 to 100, BEST OF LUCK: '))\n",
        "  if guess < 1 or guess > 100:\n",
        "    print(\"OUT OF BOUND\")\n",
        "    print(\"The number between 0 to 100, NOOB Try Again\")\n",
        "  break"
      ]
    },
    {
      "cell_type": "markdown",
      "metadata": {
        "id": "TsZBlCnRhvGg"
      },
      "source": [
        "#### Write a `while` loop that compares the player's guess to our number. If the player guesses correctly, break from the loop. Otherwise, tell the player if they're warmer or colder, and continue asking for guesses.\n",
        "\n",
        "Some hints:\n",
        "* it may help to sketch out all possible combinations on paper first!\n",
        "* you can use the `abs()` function to find the positive difference between two numbers\n",
        "* if you append all new guesses to the list, then the previous guess is given as `guesses[-2]`"
      ]
    },
    {
      "cell_type": "code",
      "execution_count": null,
      "metadata": {
        "collapsed": true,
        "id": "T8Ynu3dVhvGh"
      },
      "outputs": [],
      "source": [
        "while True:\n",
        "  guess = int(input('Guess the number between 0 to 100, BEST OF LUCK: '))\n",
        "  if guess < 1 or guess > 100:\n",
        "    print(\"OUT OF BOUND\")\n",
        "    print(\"The number between 0 to 100, NOOB Try Again\")\n",
        "    continue\n",
        "\n",
        "  if guess == random_number:\n",
        "    print(\"CONGRATULATIONS! You have WON!! You only took {} guesses\".format(len(guesses)))\n",
        "    break\n",
        "  \n",
        "  guesses.append(guess)\n",
        "  if guesses[-2]:  \n",
        "        if abs(guess-random_number) < abs(guesses[-2]-random_number):\n",
        "            print('WARMER WARMER')\n",
        "        else:\n",
        "            print('COLDER COLDER!')\n",
        "  \n",
        "  else:         \n",
        "      if abs(guess-random_number) <= 10:\n",
        "        print(\"WARM WARM\")\n",
        "      else:\n",
        "          print(\"COLD COLD\")"
      ]
    },
    {
      "cell_type": "code",
      "source": [
        "guesses"
      ],
      "metadata": {
        "id": "MFHVPZ48uQDF"
      },
      "execution_count": null,
      "outputs": []
    },
    {
      "cell_type": "markdown",
      "metadata": {
        "id": "GBDwSCzuhvGh"
      },
      "source": [
        "That's it! You've just programmed your first game!\n",
        "\n",
        "In the next section we'll learn how to turn some of these repetitive actions into *functions* that can be called whenever we need them."
      ]
    },
    {
      "cell_type": "markdown",
      "metadata": {
        "id": "ikFj3IDjhvGi"
      },
      "source": [
        "### Good Job!"
      ]
    }
  ],
  "metadata": {
    "kernelspec": {
      "display_name": "Python 3",
      "language": "python",
      "name": "python3"
    },
    "language_info": {
      "codemirror_mode": {
        "name": "ipython",
        "version": 3
      },
      "file_extension": ".py",
      "mimetype": "text/x-python",
      "name": "python",
      "nbconvert_exporter": "python",
      "pygments_lexer": "ipython3",
      "version": "3.7.9"
    },
    "colab": {
      "name": "09-Guessing Game Challenge.ipynb",
      "provenance": [],
      "include_colab_link": true
    }
  },
  "nbformat": 4,
  "nbformat_minor": 0
}